{
 "cells": [
  {
   "cell_type": "markdown",
   "metadata": {
    "slideshow": {
     "slide_type": "notes"
    }
   },
   "source": [
    "# Chemical Kinetics\n",
    "## Luis Itza Vazquez-Salazar, Silvan Käeser and Markus Meuwly\n",
    "email: luisitza.vazquezsalazar@unibas.ch\n",
    "\n",
    "### Index\n",
    "0. Introduction\n",
    "1. Simple Kinetics\n",
    "    * First and second order reactions\n",
    "    * Reversible reactions\n",
    "2. Enzyme Kinetics\n",
    "   * Introduction\n",
    "   * Michaelis-Menten Model\n",
    "3. More complex reactions\n",
    "   * Introduction\n",
    "   * Oscillating reactions \n",
    "   * Belousov-Zhabotinskii reaction\n",
    "4. Bibliography"
   ]
  },
  {
   "cell_type": "markdown",
   "metadata": {},
   "source": [
    "\n",
    "## 0. Introduction\n",
    "\n",
    "Chemical kinetics refeers to a whole branch of chemistry dedicated to understand how fast chemical reactions happens. In other words, how fast a reactant transforms into a product. \n",
    "\n",
    "Let us take the general case of a chemical reaction:\n",
    "\n",
    "\\begin{equation}\n",
    " \\nu_{a}A + \\nu_{b}B + \\cdots \\ \\rightarrow \\nu_{x}X + \\nu_{y}Y + \\cdots \\tag{1} \n",
    "\\end{equation}\n",
    "\n",
    "In equation 1, $\\nu_{i}$ is the stechiometric coefficient of the correspondent reactant or product. \n",
    "\n",
    "With this expression on mind, we can say that one of the main missions of chemical kinetics is to study how fast products appear and how fast reactants dissappear. \n",
    "\n",
    "Then, we can define ***the reaction rate*** as the change in concentration of a given specie *i* on time. This is:\n",
    "\n",
    "\\begin{equation}\n",
    "  r= \\frac{1}{\\nu_{i}} \\frac{dC_{i}}{dt} \\tag{2}\n",
    "\\end{equation}\n",
    "\n",
    "where $C_{i}$ is the concetration of an *i* specie, $\\nu_{i}$ is the stechiometric coefficient of the *i* specie.\n",
    "\n",
    "We also known that the change in concentration of one reactant is determined by it's interactions with the other reactants on the reaction. In other words, the reaction rate is dependent on the concentration of the reagents. This is know as ***the law of mass action*** and it is expressed as:\n",
    "\n",
    "\\begin{equation}\n",
    " r=k\\prod_{i}C_{i}^{n_{i}} \\tag{3}\n",
    "\\end{equation}\n",
    "\n",
    "In equation 3, *k* is the rate constant and $C_{i}$ is the concentration of an *i* specie. The number $n_{i}$ is the order of the reaction and should be obtained experimentally. \n"
   ]
  },
  {
   "cell_type": "markdown",
   "metadata": {},
   "source": [
    "## 1. Simple kinetics\n",
    "### First and second order kinetics\n",
    "\n",
    "Once we are familiar with the concepts of chemical kinetcs, we can start solving problems of chemical kinetics.\n",
    "\n",
    "Suppose a reaction of the type:\n",
    " $$ A \\rightarrow B $$\n",
    " This reaction has a rate law on the form in the case of a first order kinetics:\n",
    " $$ r = k C_{a} = -\\frac{dC_{a}}{dt} $$\n",
    "We will assume that when $t=0$ then $C_{a}=C_{a}^{0}$. \n",
    "\n",
    "So, we will solve this problem using SymPy and Numpy\n",
    "\n",
    "**Note**: $C_{a}=[A]$ "
   ]
  },
  {
   "cell_type": "code",
   "execution_count": 3,
   "metadata": {},
   "outputs": [],
   "source": [
    "import numpy as np\n",
    "import sympy as sym\n",
    "from sympy import *"
   ]
  },
  {
   "cell_type": "code",
   "execution_count": 4,
   "metadata": {},
   "outputs": [
    {
     "data": {
      "image/png": "[encoded data removed]",
      "text/latex": [
       "$\\displaystyle \\frac{d}{d t} \\operatorname{[A]}{\\left(t \\right)} = - k \\operatorname{[A]}{\\left(t \\right)}$"
      ],
      "text/plain": [
       "d                     \n",
       "──([A](t)) = -k⋅[A](t)\n",
       "dt                    "
      ]
     },
     "execution_count": 4,
     "metadata": {},
     "output_type": "execute_result"
    }
   ],
   "source": [
    "sym.init_printing() #This prints the functions\n",
    "k, t = sym.symbols('k t') #This defines the symbols \n",
    "A = sym.Function('[A]') #This start the function of the concentration\n",
    "dAdt = A(t).diff(t) #This start the derivative of the concentration with respect to the time\n",
    "expr = sym.Eq(dAdt, -k*A(t)) #This defines the equation to solve\n",
    "expr #This prints the expresion to solve"
   ]
  },
  {
   "cell_type": "code",
   "execution_count": 5,
   "metadata": {},
   "outputs": [
    {
     "data": {
      "image/png": "[encoded data removed]",
      "text/latex": [
       "$\\displaystyle \\operatorname{[A]}{\\left(t \\right)} = [A]_{0} e^{- k t}$"
      ],
      "text/plain": [
       "                  -k⋅t\n",
       "[A](t) = [A]_{0}⋅ℯ    "
      ]
     },
     "execution_count": 5,
     "metadata": {},
     "output_type": "execute_result"
    }
   ],
   "source": [
    "A0 = sym.symbols('[A]_{0}') #This is the initial condition. \n",
    "sol_1orden = sym.dsolve(expr, ics={A(0):A0}) #This solve the differential equation given a initial condition.\n",
    "sol_1orden"
   ]
  },
  {
   "cell_type": "markdown",
   "metadata": {},
   "source": [
    "Now that we have the complete solution it is possible to graph the solution that we obtained. We need to give the initial concentration of specie A and the value of constant *k*. \n",
    "- Could you plot how the concentration of specie B changes as a function of time?"
   ]
  },
  {
   "cell_type": "code",
   "execution_count": 6,
   "metadata": {},
   "outputs": [],
   "source": [
    "Ainit = 1 #Inital concentration of reactant A\n",
    "kreact = 0.02 #Reaction constant\n",
    "sol_1order_init = sol_1orden.subs({A0:Ainit, k:kreact})\n",
    "data = np.linspace(0,1000,100)\n",
    "f_A_1order = sym.lambdify(t, sol_1order_init.rhs, 'numpy')\n",
    "F_A_1order = f_A_1order(data)"
   ]
  },
  {
   "cell_type": "code",
   "execution_count": 7,
   "metadata": {},
   "outputs": [
    {
     "data": {
      "text/plain": [
       "Text(0, 0.5, 'Concentration')"
      ]
     },
     "execution_count": 7,
     "metadata": {},
     "output_type": "execute_result"
    },
    {
     "data": {
      "image/png": "[encoded data removed]",
      "text/plain": [
       "<Figure size 432x288 with 1 Axes>"
      ]
     },
     "metadata": {
      "needs_background": "light"
     },
     "output_type": "display_data"
    }
   ],
   "source": [
    "import matplotlib.pyplot as plt\n",
    "fig1 = plt.figure()\n",
    "ax1 = fig1.add_subplot(111)\n",
    "ax1.plot(data,F_A_1order, label='A')\n",
    "ax1.set_xlabel('t(min)')\n",
    "ax1.set_ylabel('Concentration')\n"
   ]
  },
  {
   "cell_type": "markdown",
   "metadata": {},
   "source": [
    "#### Solution\n",
    "Assuming that the initial concentration of A is equal to:\n",
    "$$[A]_{0}=[A]+[B]$$\n",
    "From the solution, we know that $[A] = [A]_{0} e^{-kt}$. Then, subtituying we obtain:\n",
    "$$[B]=[A]_{0}(1-e^{-kt})$$\n",
    "which we can plot."
   ]
  },
  {
   "cell_type": "code",
   "execution_count": 8,
   "metadata": {},
   "outputs": [],
   "source": [
    "B = Ainit - sol_1order_init.rhs\n",
    "f_B_1order = lambdify(t,B, \"numpy\")\n",
    "F_B_1order = f_B_1order(data)"
   ]
  },
  {
   "cell_type": "code",
   "execution_count": 9,
   "metadata": {
    "scrolled": true
   },
   "outputs": [
    {
     "data": {
      "text/plain": [
       "Text(0, 0.5, 'Concentration')"
      ]
     },
     "execution_count": 9,
     "metadata": {},
     "output_type": "execute_result"
    },
    {
     "data": {
      "image/png": "[encoded data removed]",
      "text/plain": [
       "<Figure size 432x288 with 1 Axes>"
      ]
     },
     "metadata": {
      "needs_background": "light"
     },
     "output_type": "display_data"
    }
   ],
   "source": [
    "fig = plt.figure()\n",
    "ax1 = fig.add_subplot(111)\n",
    "ax1.plot(data,F_A_1order, label='A')\n",
    "ax1.plot(data,F_B_1order, label='B')\n",
    "ax1.legend(loc='best')\n",
    "ax1.set_xlabel('t(min)')\n",
    "ax1.set_ylabel('Concentration')\n"
   ]
  },
  {
   "cell_type": "markdown",
   "metadata": {},
   "source": [
    "Now that we solved the simplest case. It is easy to extend to more complicated case. \n",
    "Assume a system which follows a second-order rate law of the type:\n",
    " $$ r = k C_{a}^{2} = -\\frac{dC_{a}}{dt} $$\n",
    " - Could you integrate this equation using sympy and then plot how the products and reactants behave on time?"
   ]
  },
  {
   "cell_type": "markdown",
   "metadata": {},
   "source": [
    "#### Solution"
   ]
  },
  {
   "cell_type": "code",
   "execution_count": 10,
   "metadata": {},
   "outputs": [
    {
     "data": {
      "image/png": "[encoded data removed]",
      "text/latex": [
       "$\\displaystyle \\frac{d}{d t} \\operatorname{[A]}{\\left(t \\right)} = - k \\operatorname{[A]}^{2}{\\left(t \\right)}$"
      ],
      "text/plain": [
       "d                  2   \n",
       "──([A](t)) = -k⋅[A] (t)\n",
       "dt                     "
      ]
     },
     "execution_count": 10,
     "metadata": {},
     "output_type": "execute_result"
    }
   ],
   "source": [
    "k, t = sym.symbols('k t') #This defines the symbols \n",
    "A = sym.Function('[A]') #This start the function of the concentration\n",
    "dAdt = A(t).diff(t) #This start the derivative of the concentration with respect to the time\n",
    "expr_2order = sym.Eq(dAdt, -k*(A(t))**2) #This defines the equation to solve\n",
    "expr_2order #This prints the expresion to solve"
   ]
  },
  {
   "cell_type": "code",
   "execution_count": 11,
   "metadata": {},
   "outputs": [
    {
     "data": {
      "image/png": "[encoded data removed]",
      "text/latex": [
       "$\\displaystyle \\operatorname{[A]}{\\left(t \\right)} = \\frac{1}{k t + \\frac{1}{[A]_{0}}}$"
      ],
      "text/plain": [
       "               1      \n",
       "[A](t) = ─────────────\n",
       "                  1   \n",
       "         k⋅t + ───────\n",
       "               [A]_{0}"
      ]
     },
     "execution_count": 11,
     "metadata": {},
     "output_type": "execute_result"
    }
   ],
   "source": [
    "A0 = sym.symbols('[A]_{0}') #This is the initial condition. \n",
    "sol_2order = sym.dsolve(expr_2order, ics={A(0):A0}) #This solve the differential equation given a initial condition.\n",
    "sol_2order"
   ]
  },
  {
   "cell_type": "code",
   "execution_count": 25,
   "metadata": {},
   "outputs": [],
   "source": [
    "Ainit2 = 1\n",
    "kreac_2order = 0.02\n",
    "sol_2order_init = sol_2order.subs({A0:Ainit2, k:kreac_2order})\n",
    "data = np.linspace(0,1000,100)\n",
    "f_A_2order = sym.lambdify(t, sol_2order_init.rhs, 'numpy')\n",
    "F_A_2order = f_A_2order(data)"
   ]
  },
  {
   "cell_type": "code",
   "execution_count": 26,
   "metadata": {},
   "outputs": [
    {
     "data": {
      "text/plain": [
       "Text(0, 0.5, 'Concentration')"
      ]
     },
     "execution_count": 26,
     "metadata": {},
     "output_type": "execute_result"
    },
    {
     "data": {
      "image/png": "[encoded data removed]",
      "text/plain": [
       "<Figure size 432x288 with 1 Axes>"
      ]
     },
     "metadata": {
      "needs_background": "light"
     },
     "output_type": "display_data"
    }
   ],
   "source": [
    "fig1 = plt.figure()\n",
    "ax1 = fig1.add_subplot(111)\n",
    "ax1.plot(data,F_A_2order, label='A')\n",
    "ax1.set_xlabel('t(min)')\n",
    "ax1.set_ylabel('Concentration')"
   ]
  },
  {
   "cell_type": "code",
   "execution_count": 27,
   "metadata": {},
   "outputs": [],
   "source": [
    "B = Ainit2 - sol_2order_init.rhs\n",
    "f_B_2order = lambdify(t,B, \"numpy\")\n",
    "F_B_2order = f_B_2order(data)"
   ]
  },
  {
   "cell_type": "code",
   "execution_count": 28,
   "metadata": {},
   "outputs": [
    {
     "data": {
      "text/plain": [
       "Text(0, 0.5, 'Concentration')"
      ]
     },
     "execution_count": 28,
     "metadata": {},
     "output_type": "execute_result"
    },
    {
     "data": {
      "image/png": "[encoded data removed]",
      "text/plain": [
       "<Figure size 432x288 with 1 Axes>"
      ]
     },
     "metadata": {
      "needs_background": "light"
     },
     "output_type": "display_data"
    }
   ],
   "source": [
    "fig = plt.figure()\n",
    "ax1 = fig.add_subplot(111)\n",
    "ax1.plot(data,F_A_2order, label='A')\n",
    "ax1.plot(data,F_B_2order, label='B')\n",
    "ax1.legend(loc='best')\n",
    "ax1.set_xlabel('t(min)')\n",
    "ax1.set_ylabel('Concentration')\n"
   ]
  },
  {
   "cell_type": "markdown",
   "metadata": {},
   "source": [
    "Lets compare the graph of the change in the concentration of reactants and products in time for the first and second order. "
   ]
  },
  {
   "cell_type": "code",
   "execution_count": 16,
   "metadata": {},
   "outputs": [
    {
     "data": {
      "text/plain": [
       "Text(0, 0.5, 'Concentration')"
      ]
     },
     "execution_count": 16,
     "metadata": {},
     "output_type": "execute_result"
    },
    {
     "data": {
      "image/png": "[encoded data removed]",
      "text/plain": [
       "<Figure size 432x288 with 1 Axes>"
      ]
     },
     "metadata": {
      "needs_background": "light"
     },
     "output_type": "display_data"
    }
   ],
   "source": [
    "#Lets compare the graph for first and second order\n",
    "fig = plt.figure()\n",
    "ax1 = fig.add_subplot(111)\n",
    "ax1.plot(data,F_A_1order, label='A-1st Order')\n",
    "ax1.plot(data,F_B_1order, label='B-1st Order')\n",
    "ax1.plot(data,F_A_2order, label='A-2nd Order')\n",
    "ax1.plot(data,F_B_2order, label='B-2nd Order')\n",
    "ax1.legend(loc='best')\n",
    "ax1.set_xlabel('t(min)')\n",
    "ax1.set_ylabel('Concentration')\n"
   ]
  },
  {
   "cell_type": "markdown",
   "metadata": {},
   "source": [
    "#### Exercise\n",
    "\n",
    "Assume a reaction of the type:\n",
    "\n",
    "$$ A + B \\rightarrow C $$\n",
    "\n",
    "Which is governated by the kinetic equation:\n",
    "\n",
    "$$ r = -\\frac{d[A]}{dt} = -\\frac{d[B]}{dt} = k[A][B] $$\n",
    "Using SciPy derive the general solution for this type of reaction and obtain the plots for the change of concentration for the reactants and products.\n",
    "\n",
    "Terminar!"
   ]
  },
  {
   "cell_type": "markdown",
   "metadata": {},
   "source": [
    "### Reversible reactions\n",
    "\n",
    "In chemistry most of the reactions studied are reversible, this means that there is an additional mechanism which gives place to a return of the products to the reactants. \n",
    "\n",
    "We will consider the simplest case of a first-order reaction. Lets consider a reaction of the type:\n",
    "\n",
    "$$ A \\rightleftharpoons B $$\n",
    "\n",
    "The rate of this reaction can be expressed as:\n",
    "\n",
    "$$ r = -\\frac{d[A]}{dt} = k_{f}[A] - k_{r}[B] $$\n",
    "\n",
    "$$ r = - \\frac{d[B]}{dt} = k_{r}[B] - k_{f}[A] $$\n",
    "\n",
    "Where $k_{f}$ is the reaction constant for the forward reaction and $k_{r}$ is the reaction constant for the reverse reaction. \n",
    "\n",
    "We can write the law of conservation of mass for this system as:\n",
    "\n",
    "$$ [A]_{0} + [B]_{0} = [A] + [B] $$\n",
    "\n",
    "Here $[i]_{0}$ is the initial concentration of the $i$ specie ($i = A,B$)  on the reaction. Then, it is possible to expression the equation for the rate of A or B in terms of one variable. \n",
    "\n",
    "In this case, we will obtain the concentration of B as a function of the concentration of A.\n",
    "\n",
    "$$ [B] = [A]_{0} + [B]_{0} - [A] $$\n",
    "\n",
    "Then, we substitute this on the equation for the rate of A and we obtain:\n",
    "\n",
    "$$ r = -\\frac{d[A]}{dt} = (k_{f} + k_{r}) \\left\\{ [A]-\\frac{k_{r}([A]_{0}+[B]_{0})}{(k_{f}+k_{r})}  \\right\\} $$"
   ]
  },
  {
   "cell_type": "code",
   "execution_count": 80,
   "metadata": {},
   "outputs": [
    {
     "data": {
      "image/png": "[encoded data removed]",
      "text/latex": [
       "$\\displaystyle - \\frac{d}{d t} \\operatorname{[A]}{\\left(t \\right)} = \\left(k_{f} + k_{r}\\right) \\left(- \\frac{k_{r} \\left([A]_{0} + [B]_{0}\\right)}{k_{f} + k_{r}} + \\operatorname{[A]}{\\left(t \\right)}\\right)$"
      ],
      "text/plain": [
       " d                            ⎛  k_{r}⋅([A]_{0} + [B]_{0})         ⎞\n",
       "-──([A](t)) = (k_{f} + k_{r})⋅⎜- ───────────────────────── + [A](t)⎟\n",
       " dt                           ⎝        k_{f} + k_{r}               ⎠"
      ]
     },
     "execution_count": 80,
     "metadata": {},
     "output_type": "execute_result"
    }
   ],
   "source": [
    "kr, kf, t = sym.symbols('k_{r} k_{f} t') \n",
    "A0 = sym.symbols('[A]_{0}') \n",
    "B0 = sym.symbols('[B]_{0}')\n",
    "A = sym.Function('[A]') \n",
    "dAdt = A(t).diff(t)\n",
    "kt = kr + kf\n",
    "m = (kr*(A0+B0))/kt\n",
    "expr_1order_rev = sym.Eq(-dAdt, kt*(A(t)-m)) #This defines the equation to solve\n",
    "expr_1order_rev #This prints the expresion to solve"
   ]
  },
  {
   "cell_type": "code",
   "execution_count": 81,
   "metadata": {},
   "outputs": [
    {
     "data": {
      "image/png": "[encoded data removed]",
      "text/latex": [
       "$\\displaystyle \\operatorname{[A]}{\\left(t \\right)} = \\frac{[A]_{0} k_{r} + [B]_{0} k_{r} + e^{\\left(k_{f} + k_{r}\\right) \\left(- t + \\frac{\\log{\\left([A]_{0} k_{f} - [B]_{0} k_{r} \\right)}}{k_{f} + k_{r}}\\right)}}{k_{f} + k_{r}}$"
      ],
      "text/plain": [
       "                                                          ⎛     log([A]_{0}⋅k_\n",
       "                                          (k_{f} + k_{r})⋅⎜-t + ──────────────\n",
       "                                                          ⎝               k_{f\n",
       "         [A]_{0}⋅k_{r} + [B]_{0}⋅k_{r} + ℯ                                    \n",
       "[A](t) = ─────────────────────────────────────────────────────────────────────\n",
       "                                               k_{f} + k_{r}                  \n",
       "\n",
       "{f} - [B]_{0}⋅k_{r})⎞\n",
       "────────────────────⎟\n",
       "} + k_{r}           ⎠\n",
       "                     \n",
       "─────────────────────\n",
       "                     "
      ]
     },
     "execution_count": 81,
     "metadata": {},
     "output_type": "execute_result"
    }
   ],
   "source": [
    "sol_1order_rev = sym.dsolve(expr_1order_rev, ics={A(0):A0}) #This solve the differential equation given a initial condition.\n",
    "sol_1order_rev"
   ]
  },
  {
   "cell_type": "code",
   "execution_count": 104,
   "metadata": {},
   "outputs": [
    {
     "data": {
      "image/png": "[encoded data removed]",
      "text/latex": [
       "$\\displaystyle \\operatorname{[A]}{\\left(t \\right)} = 0.6 + 0.4 e^{- 0.9 t}$"
      ],
      "text/plain": [
       "                    -0.9⋅t\n",
       "[A](t) = 0.6 + 0.4⋅ℯ      "
      ]
     },
     "execution_count": 104,
     "metadata": {},
     "output_type": "execute_result"
    }
   ],
   "source": [
    "A0_rev=1.0\n",
    "B0_rev=0.2\n",
    "kfor=0.45\n",
    "krev=0.45\n",
    "sol_1order_rev_init = sol_1order_rev.subs({A0:A0_rev, B0:B0_rev, kr:krev, kf:kfor})\n",
    "sol_1order_rev_init"
   ]
  },
  {
   "cell_type": "code",
   "execution_count": 107,
   "metadata": {},
   "outputs": [],
   "source": [
    "data = np.linspace(0,10,100)\n",
    "f_A_1order_rev = sym.lambdify(t, sol_1order_rev_init.rhs, 'numpy')\n",
    "F_A_1order_rev = f_A_1order_rev(data)\n",
    "F_B_1order_rev = A0_rev + B0_rev - f_A_1order_rev(data)"
   ]
  },
  {
   "cell_type": "code",
   "execution_count": 108,
   "metadata": {},
   "outputs": [
    {
     "data": {
      "text/plain": [
       "Text(0, 0.5, 'Concentration')"
      ]
     },
     "execution_count": 108,
     "metadata": {},
     "output_type": "execute_result"
    },
    {
     "data": {
      "image/png": "[encoded data removed]",
      "text/plain": [
       "<Figure size 432x288 with 1 Axes>"
      ]
     },
     "metadata": {
      "needs_background": "light"
     },
     "output_type": "display_data"
    }
   ],
   "source": [
    "fig1 = plt.figure()\n",
    "ax1 = fig1.add_subplot(111)\n",
    "ax1.plot(data, F_A_1order_rev, label='A')\n",
    "ax1.plot(data,F_B_1order_rev, label='B')\n",
    "ax1.set_xlabel('t(min)')\n",
    "ax1.set_ylabel('Concentration')"
   ]
  },
  {
   "cell_type": "markdown",
   "metadata": {},
   "source": [
    "#### Exercise\n",
    "Let's consider a reversible bimolecular transformation of second order which can be expressed as:\n",
    "\n",
    "$$ A + B \\rightleftharpoons C + D $$\n",
    "\n",
    "Obtain the solution for the concentration of all the species on the reaction and plot the evolution on time of them.\n",
    "\n",
    "##### Hint:\n",
    "The differential equation that describes the system is:\n",
    "\n",
    "$$ r = -\\frac{d[A]}{dt} = k_{f}[A][B] - k_{r}[C][D] $$"
   ]
  },
  {
   "cell_type": "markdown",
   "metadata": {},
   "source": [
    "## 2. Enzyme kinetics.\n",
    "### Introduction\n",
    "One of the most interesting applications of chemical kinetics is on the study of enzymes. As you might know, enzymes are fundamental components for the develop of chemical reactions on live systems. Enzymes acts as catalysts on chemical reactions this means that its presence can increase or reduce the rate of a reaction. \n",
    "\n",
    "The study of enzyme kinetics requires the use of the concepts that we learn on the previous module. We will derive, using SymPy, the well known model of Michaelis-Menten. This is name after the German biochemist Leonor Michaelis and Canadian physician Maud Menten. \n",
    "\n",
    "### Michaelis-Menten Model\n",
    "Let's consider the the rate of hydrolysis of sucrose to glucose and fructose catalysed by the yeast enzyme $\\beta$-fructofuranosidase, this process was studied in 1902 by [Brown](https://doi.org/10.1039/CT9028100373). This process have the following mechanism.\n",
    "\n",
    "$$ E + S \\rightleftharpoons ES \\rightarrow P + E $$\n",
    "\n",
    "On this reaction, $E$ is the enzyme, $S$ is the substrate, $ES$ is the complex enzyme-substrate and $P$ is the final product.\n",
    "The previous reaction can be graphically represented as:\n",
    "![Model for the behaviour of an enzymatic reaction. Adapted from Ancheyta Juarez, 2017](Enzyme.png) \n",
    "\n",
    "It is obvious that we have a system which contains a reversible reaction and then a second reaction that transforms the complex enzyme-substrate into the final product. So, mathematically speaking we can fomulate this as:\n",
    "\\begin{equation}\n",
    "\\frac{d[S]}{dt} = -k_{f}[E][S] + k_{r}[ES] \\tag{1}\n",
    "\\end{equation}\n",
    "\\begin{equation}\n",
    " \\frac{d[E]}{dt} = -k_{f}[E][S] + k_{f} [ES] + k_{cat}[ES] \\tag{2}\n",
    "\\end{equation}\n",
    "\\begin{equation}\n",
    "\\frac{d[ES]}{dt} = k_{f}[E][S] - k_{r}[ES] - k_{cat}[ES] \\tag{3}\n",
    "\\end{equation}\n",
    "\\begin{equation}\n",
    "\\frac{d[P]}{dt} = k_{cat}[ES] \\tag{4}\n",
    "\\end{equation}\n",
    "\n",
    "To solve this system of differential equations, we need to have few initial conditions for each of the species. This initials conditions are:\n",
    "\n",
    "$$ [S](t=0)=[S]_{0} \\quad  [E](t=0)=[E]_{0} \\quad [ES](t=0)=0 \\quad [P](t=0)=0 $$\n",
    "\n",
    "We want to simplify a bit the system of differential equation make its solution easy. So, we notice that equation 4 is uncoupled form the other 3, then its solution can be expressed as:\n",
    "\n",
    "\\begin{equation}\n",
    "[P](t) = k_{cat} \\int_{0}^{t} [ES](t') dt' \\tag{5}\n",
    "\\end{equation}\n",
    "\n",
    "Equation 5, only depend on the analytical form of $[ES]$ which can be obtained from equations 1,2 and 3. \n",
    "\n",
    "We can simplify more our systems of equations by looking at the concentration of the enzyme. We known that the total concentration is constant through the process, this means that the sum of the free enzyme and the enzyme on the complex with the substrate is equal to a constant. Then, we can add equations 2 and 3 to obtain \n",
    "\n",
    "$$ \\frac{d[E]}{dt}+\\frac{d[ES]}{dt} = 0 \\quad \\Longrightarrow \\quad [E](t)+[ES](t) = [E]_{0} $$\n",
    "\n",
    "Using the initial conditions previously defined we reduces the original system of equations to:\n",
    "\n",
    "\\begin{equation}\n",
    "\\frac{d[S]}{dt} = -k_{f}[E]_{0}[S] + (k_{f}[S] + k_{r})[ES] \\tag{6}\n",
    "\\end{equation}\n",
    "\\begin{equation}\n",
    "\\frac{d[ES]}{dt} = k_{f}[E]_{0}[S] - (k_{r} + k{f} + k_{cat})[ES] \\tag{7}\n",
    "\\end{equation}\n",
    "\n",
    "We will solve this system of equation subject to the initial conditions previously given. "
   ]
  },
  {
   "cell_type": "code",
   "execution_count": 119,
   "metadata": {},
   "outputs": [
    {
     "data": {
      "image/png": "[encoded data removed]",
      "text/latex": [
       "$\\displaystyle \\frac{d}{d t} \\operatorname{[S]}{\\left(t \\right)} = - [E]_{0} k_{f} \\operatorname{[S]}{\\left(t \\right)} + \\left(k_{f} \\operatorname{[S]}{\\left(t \\right)} + k_{r}\\right) \\operatorname{[ES]}{\\left(t \\right)}$"
      ],
      "text/plain": [
       "d                                                                  \n",
       "──([S](t)) = -[E]_{0}⋅k_{f}⋅[S](t) + (k_{f}⋅[S](t) + k_{r})⋅[ES](t)\n",
       "dt                                                                 "
      ]
     },
     "execution_count": 119,
     "metadata": {},
     "output_type": "execute_result"
    }
   ],
   "source": [
    "kr, kf, kcat, t = sym.symbols('k_{r} k_{f} k_{cat} t') \n",
    "S0 = sym.symbols('[S]_{0}') \n",
    "E0 = sym.symbols('[E]_{0}')\n",
    "S = sym.Function('[S]')\n",
    "E = sym.Function('[E]')\n",
    "ES = sym.Function('[ES]')\n",
    "dSdt = S(t).diff(t)\n",
    "dESdt = ES(t).diff(t)\n",
    "eq1_mm = sym.Eq(dSdt, -kf*E0*S(t)+(kf*S(t)+ kr)*ES(t))\n",
    "eq2_mm = sym.Eq(dESdt, kf*E0*S(t)-(kr+kf+kcat)*ES(t))\n",
    "eq1_mm"
   ]
  },
  {
   "cell_type": "code",
   "execution_count": null,
   "metadata": {},
   "outputs": [],
   "source": [
    "sol_mm = sym.dsolve((eq1_mm, eq2_mm), ics={S(0):S0, ES(0):0}) #This solve the differential equation given a initial condition.\n",
    "sol_mm"
   ]
  },
  {
   "cell_type": "code",
   "execution_count": null,
   "metadata": {},
   "outputs": [],
   "source": []
  }
 ],
 "metadata": {
  "kernelspec": {
   "display_name": "Python 3",
   "language": "python",
   "name": "python3"
  },
  "language_info": {
   "codemirror_mode": {
    "name": "ipython",
    "version": 3
   },
   "file_extension": ".py",
   "mimetype": "text/x-python",
   "name": "python",
   "nbconvert_exporter": "python",
   "pygments_lexer": "ipython3",
   "version": "3.7.6"
  }
 },
 "nbformat": 4,
 "nbformat_minor": 4
}
